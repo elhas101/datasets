{
 "cells": [
  {
   "cell_type": "markdown",
   "metadata": {
    "collapsed": false
   },
   "source": [
    "<h1>Dataset exploration</h1>"
   ]
  },
  {
   "cell_type": "code",
   "execution_count": null,
   "metadata": {
    "collapsed": false
   },
   "outputs": [],
   "source": [
    "import pandas as pd\n",
    "\n",
    "import numpy as np\n",
    "\n",
    "import matplotlib.pyplot as plt\n",
    "# to display plots inline\n",
    "%matplotlib inline  \n",
    "\n",
    "file_name = \"./598354.csv\"\n",
    "\n",
    "#parse dates\n",
    "df = pd.read_csv(file_name, parse_dates=[2],dayfirst=True)\n",
    "\n",
    "#checking indexes\n",
    "df.index\n",
    "\n",
    "#checking columns\n",
    "df.columns\n",
    "\n",
    "#checking header\n",
    "df.head()\n"
   ]
  },
  {
   "cell_type": "markdown",
   "metadata": {},
   "source": [
    "<h1>1. TMAX and TMIN plots</h1>"
   ]
  },
  {
   "cell_type": "markdown",
   "metadata": {},
   "source": [
    "<b>SAN FRANCISCO INTERNATIONAL AIRPORT CA US</b>"
   ]
  },
  {
   "cell_type": "code",
   "execution_count": null,
   "metadata": {
    "collapsed": false
   },
   "outputs": [],
   "source": [
    "# Selecting station: SAN FRANCISCO INTERNATIONAL AIRPORT CA US\n",
    "df_san_tmp = df.loc[df['STATION'].isin(['GHCND:USW00023234'])]\n",
    "df_san_tmp2 = pd.DataFrame(df_san_tmp, columns=['DATE','TMAX', 'TMIN'])\n",
    "df_san = df_san_tmp2.set_index(['DATE'])\n",
    "plt.figure(); df_san.plot()"
   ]
  },
  {
   "cell_type": "markdown",
   "metadata": {},
   "source": [
    "<hr>\n",
    "<b>LOS ANGELES DOWNTOWN USC CA US</b>"
   ]
  },
  {
   "cell_type": "code",
   "execution_count": null,
   "metadata": {
    "collapsed": false
   },
   "outputs": [],
   "source": [
    "# Selecting station: LOS ANGELES DOWNTOWN USC CA US\n",
    "df_la_tmp = df.loc[df['STATION'].isin(['GHCND:USW00093134'])]\n",
    "df_la_tmp2 = pd.DataFrame(df_la_tmp, columns=['DATE','TMAX', 'TMIN'])\n",
    "df_la = df_la_tmp2.set_index(['DATE'])\n",
    "plt.figure(); df_la.plot()"
   ]
  },
  {
   "cell_type": "markdown",
   "metadata": {},
   "source": [
    "<hr>\n",
    "<b>SANTA BARBARA MUNICIPAL AIRPORT CA US</b>"
   ]
  },
  {
   "cell_type": "code",
   "execution_count": null,
   "metadata": {
    "collapsed": false
   },
   "outputs": [],
   "source": [
    "# Selecting station: SANTA BARBARA MUNICIPAL AIRPORT CA US\n",
    "df_oc_tmp = df.loc[df['STATION'].isin(['GHCND:USW00023190'])]\n",
    "df_oc_tmp2 = pd.DataFrame(df_oc_tmp, columns=['DATE','TMAX', 'TMIN'])\n",
    "df_oc = df_oc_tmp2.set_index(['DATE'])\n",
    "plt.figure(); df_oc.plot()"
   ]
  },
  {
   "cell_type": "markdown",
   "metadata": {},
   "source": [
    "<hr>\n",
    "<h2>2. PRCP plots for JUNE 2015</h2>"
   ]
  },
  {
   "cell_type": "code",
   "execution_count": null,
   "metadata": {
    "collapsed": false
   },
   "outputs": [],
   "source": [
    "start_date = '2015-06-01'\n",
    "end_date = '2015-06-30'\n",
    "\n",
    "df = df.loc[(df['DATE'] > start_date) & (df['DATE'] <= end_date)]\n",
    "\n"
   ]
  },
  {
   "cell_type": "markdown",
   "metadata": {},
   "source": [
    "<hr>\n",
    "<b>SAN FRANCISCO INTERNATIONAL AIRPORT CA US</b>"
   ]
  },
  {
   "cell_type": "code",
   "execution_count": null,
   "metadata": {
    "collapsed": false
   },
   "outputs": [],
   "source": [
    "# Selecting station: SAN FRANCISCO INTERNATIONAL AIRPORT CA US\n",
    "df_san_tmp = df.loc[df['STATION'].isin(['GHCND:USW00023234'])]\n",
    "df_san_tmp2 = pd.DataFrame(df_san_tmp, columns=['DATE','PRCP'])\n",
    "df_san = df_san_tmp2.set_index(['DATE'])\n",
    "plt.figure(); df_san.plot()"
   ]
  },
  {
   "cell_type": "markdown",
   "metadata": {},
   "source": [
    "<hr>\n",
    "<b>LOS ANGELES DOWNTOWN USC CA US</b>"
   ]
  },
  {
   "cell_type": "code",
   "execution_count": null,
   "metadata": {
    "collapsed": false
   },
   "outputs": [],
   "source": [
    "# Selecting station: LOS ANGELES DOWNTOWN USC CA US\n",
    "df_la_tmp = df.loc[df['STATION'].isin(['GHCND:USW00093134'])]\n",
    "df_la_tmp2 = pd.DataFrame(df_la_tmp, columns=['DATE','PRCP'])\n",
    "df_la = df_la_tmp2.set_index(['DATE'])\n",
    "plt.figure(); df_la.plot()"
   ]
  },
  {
   "cell_type": "markdown",
   "metadata": {},
   "source": [
    "<hr>\n",
    "<b>SANTA BARBARA MUNICIPAL AIRPORT CA US</b>"
   ]
  },
  {
   "cell_type": "code",
   "execution_count": null,
   "metadata": {
    "collapsed": false
   },
   "outputs": [],
   "source": [
    "# Selecting station: SANTA BARBARA MUNICIPAL AIRPORT CA US\n",
    "df_oc_tmp = df.loc[df['STATION'].isin(['GHCND:USW00023190'])]\n",
    "df_oc_tmp2 = pd.DataFrame(df_oc_tmp, columns=['DATE','PRCP'])\n",
    "df_oc = df_oc_tmp2.set_index(['DATE'])\n",
    "plt.figure(); df_oc.plot()"
   ]
  },
  {
   "cell_type": "markdown",
   "metadata": {},
   "source": [
    "<h3>Observations</h3>"
   ]
  },
  {
   "cell_type": "markdown",
   "metadata": {},
   "source": [
    "The three stations recorded precipitations on June 10th 2015. San Francisco and Sacramento recorded 65 and 75 inches respectively while Los Angeles only recorded a maximum of 3 inches precipitations around the same time. \n",
    "\n",
    "Temperatures seem to be recorded in 10th of Fahrenheight according to the pdf documentation, but somehow the values do not make sense. There might be further clean-up or conversions required to get the correct temperatures. "
   ]
  }
 ],
 "metadata": {
  "kernelspec": {
   "display_name": "Python 2",
   "language": "python",
   "name": "python2"
  },
  "name": "GHCND.ipynb"
 },
 "nbformat": 4,
 "nbformat_minor": 0
}
